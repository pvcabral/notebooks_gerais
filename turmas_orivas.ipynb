{
 "cells": [
  {
   "cell_type": "code",
   "execution_count": 1,
   "id": "45f75153-7c65-4696-9bc8-db0b37b0b9a6",
   "metadata": {},
   "outputs": [],
   "source": [
    "import pandas as pd"
   ]
  },
  {
   "cell_type": "code",
   "execution_count": 2,
   "id": "caea77e8-ca72-440c-a196-c3c728410bc4",
   "metadata": {},
   "outputs": [],
   "source": [
    "pd.set_option('display.max_columns',55)"
   ]
  },
  {
   "cell_type": "code",
   "execution_count": 3,
   "id": "a2618107-6fff-4290-bdb5-a0f8ed4604ac",
   "metadata": {},
   "outputs": [],
   "source": [
    "dados = pd.read_csv('tabela_metrica_caracter.csv')"
   ]
  },
  {
   "cell_type": "code",
   "execution_count": null,
   "id": "edf524d0-9492-47ee-86ac-db042ed0a03b",
   "metadata": {},
   "outputs": [],
   "source": [
    "dados.head()"
   ]
  },
  {
   "cell_type": "code",
   "execution_count": 5,
   "id": "606383f2-6055-423a-9207-396c40c9fcfc",
   "metadata": {},
   "outputs": [],
   "source": [
    "lista_classe_orivaldo = ['86e0792a-87df-4db4-9040-bc94ef539825','9e5e1c22-5cff-4a5a-bb53-cc4a2c7a22c5','a2c4bb9c-7d00-402e-b2b5-55300cae2161','d0122069-129b-4207-812d-ab50a082eb18']"
   ]
  },
  {
   "cell_type": "code",
   "execution_count": 6,
   "id": "388899be-7571-4110-80c0-9541cf622ac0",
   "metadata": {},
   "outputs": [],
   "source": [
    "dados = dados.query('@lista_classe_orivaldo in class_id')"
   ]
  },
  {
   "cell_type": "code",
   "execution_count": null,
   "id": "db8ac3a3-3426-4655-983c-77710f9e27c6",
   "metadata": {},
   "outputs": [],
   "source": [
    "dados"
   ]
  },
  {
   "cell_type": "code",
   "execution_count": 8,
   "id": "69bbaa13-e0e0-4cb9-9ae5-5cfe1d509aee",
   "metadata": {},
   "outputs": [],
   "source": [
    "dados.to_csv('metricas_turmas_orivaldo.csv',index = False,sep = ',')"
   ]
  },
  {
   "cell_type": "code",
   "execution_count": null,
   "id": "fc1a7fb5-1d04-498c-99fe-a9e6a45eb8f0",
   "metadata": {},
   "outputs": [],
   "source": []
  }
 ],
 "metadata": {
  "kernelspec": {
   "display_name": "Python 3 (ipykernel)",
   "language": "python",
   "name": "python3"
  },
  "language_info": {
   "codemirror_mode": {
    "name": "ipython",
    "version": 3
   },
   "file_extension": ".py",
   "mimetype": "text/x-python",
   "name": "python",
   "nbconvert_exporter": "python",
   "pygments_lexer": "ipython3",
   "version": "3.11.7"
  },
  "widgets": {
   "application/vnd.jupyter.widget-state+json": {
    "state": {},
    "version_major": 2,
    "version_minor": 0
   }
  }
 },
 "nbformat": 4,
 "nbformat_minor": 5
}
