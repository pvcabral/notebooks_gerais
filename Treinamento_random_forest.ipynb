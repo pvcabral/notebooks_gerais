{
 "cells": [
  {
   "cell_type": "code",
   "execution_count": 10,
   "id": "ff74c1b3-7e1c-4c9f-974b-affc379268eb",
   "metadata": {},
   "outputs": [],
   "source": [
    "import pandas as pd\n",
    "import matplotlib.pyplot as plt\n",
    "import numpy as np\n",
    "from sklearn.model_selection import train_test_split\n",
    "from sklearn.svm import SVC\n",
    "from sklearn.preprocessing import StandardScaler\n",
    "from sklearn.metrics import accuracy_score\n",
    "from sklearn.ensemble import RandomForestClassifier\n",
    "from sklearn.tree import DecisionTreeClassifier\n",
    "import joblib"
   ]
  },
  {
   "cell_type": "markdown",
   "id": "e4d29443-b5c7-4d75-91b2-a78210018d4b",
   "metadata": {},
   "source": [
    "# Realizando o treinamento"
   ]
  },
  {
   "cell_type": "code",
   "execution_count": 2,
   "id": "5b1cdf82-e036-475e-90dd-c9fd1041c026",
   "metadata": {},
   "outputs": [],
   "source": [
    "dados_treinamento = pd.read_csv('tabela_metrica_caracter.csv',sep = ',')"
   ]
  },
  {
   "cell_type": "code",
   "execution_count": null,
   "id": "1a03e9b3-34a8-46f0-a324-89e506162855",
   "metadata": {},
   "outputs": [],
   "source": [
    "dados_treinamento.head()"
   ]
  },
  {
   "cell_type": "code",
   "execution_count": 4,
   "id": "3db20163-2f6f-490b-8c1b-9af6268a25f9",
   "metadata": {},
   "outputs": [],
   "source": [
    "dados_treinamento = dados_treinamento.dropna(axis = 0,how = 'any')"
   ]
  },
  {
   "cell_type": "code",
   "execution_count": 5,
   "id": "56f22f2c-d3ff-4693-96a0-f2712d6bd59e",
   "metadata": {},
   "outputs": [],
   "source": [
    "x = dados_treinamento.drop(columns=['id_user','class_id','enrollment','QuestionsList_list01','QuestionsList_list02','QuestionsList_list03',\n",
    "                                   'submitted_list_final01','submitted_list_final02','submitted_list_final03'])\n",
    "y = dados_treinamento.iloc[:,53].values"
   ]
  },
  {
   "cell_type": "code",
   "execution_count": 6,
   "id": "133a28ba-326a-4a3d-be7b-115b61a77716",
   "metadata": {},
   "outputs": [],
   "source": [
    "SEED = 5\n",
    "np.random.seed(SEED)\n",
    "treino_x,teste_x,treino_y,teste_y = train_test_split(x,y,test_size = 0.25,random_state = SEED,stratify = y)"
   ]
  },
  {
   "cell_type": "code",
   "execution_count": 7,
   "id": "89d773f7-633c-4a35-88ba-3b9bb8c4167c",
   "metadata": {},
   "outputs": [],
   "source": [
    "modelo = RandomForestClassifier(random_state=SEED,bootstrap = True, max_depth = None, min_samples_leaf = 2, min_samples_split = 10, n_estimators = 300)"
   ]
  },
  {
   "cell_type": "code",
   "execution_count": null,
   "id": "c216db82-8fba-4b3c-8ddf-1a18a73f9329",
   "metadata": {},
   "outputs": [],
   "source": [
    "modelo.fit(treino_x,treino_y)"
   ]
  },
  {
   "cell_type": "code",
   "execution_count": 9,
   "id": "c3983c33-5b99-4ded-8d85-ba415822050c",
   "metadata": {},
   "outputs": [],
   "source": [
    "previsoes = modelo.predict(teste_x)\n",
    "acuracia = accuracy_score(teste_y,previsoes)*100"
   ]
  },
  {
   "cell_type": "code",
   "execution_count": null,
   "id": "e466c85c",
   "metadata": {},
   "outputs": [],
   "source": [
    "joblib.dump(modelo,'modelo_ML.joblib')"
   ]
  },
  {
   "cell_type": "markdown",
   "id": "ca037544-a9a0-43b4-b3c4-dd92949cf70b",
   "metadata": {},
   "source": [
    "# Realizando a predição com os dados da turma de 2024.1"
   ]
  },
  {
   "cell_type": "code",
   "execution_count": 12,
   "id": "949ddec2-74eb-43c3-9dd5-af7b520b0a96",
   "metadata": {},
   "outputs": [],
   "source": [
    "df_by_predict = pd.read_csv('tabela_para_predicao.csv')"
   ]
  },
  {
   "cell_type": "code",
   "execution_count": 13,
   "id": "6a9b8d66-7555-492a-bacc-b7a6add9939d",
   "metadata": {},
   "outputs": [],
   "source": [
    "df_by_predict = df_by_predict.fillna(0)"
   ]
  },
  {
   "cell_type": "code",
   "execution_count": null,
   "id": "2f5c14ec-8394-48f7-837e-03f16759d660",
   "metadata": {},
   "outputs": [],
   "source": [
    "df_by_predict"
   ]
  },
  {
   "cell_type": "code",
   "execution_count": null,
   "id": "b869ed63-5d9b-4f7a-aa35-4fe9b3e820f9",
   "metadata": {},
   "outputs": [],
   "source": [
    "df_by_predict.head()"
   ]
  },
  {
   "cell_type": "code",
   "execution_count": 16,
   "id": "02a9770c-1b53-4517-b0a3-8e59861908f7",
   "metadata": {},
   "outputs": [],
   "source": [
    "matriculas = df_by_predict.enrollment.unique()\n",
    "x =  df_by_predict.drop(columns=['id_user','class_id','enrollment','QuestionsList_list01','QuestionsList_list02','QuestionsList_list03',\n",
    "                                   'submitted_list_final01','submitted_list_final02','submitted_list_final03'])"
   ]
  },
  {
   "cell_type": "code",
   "execution_count": null,
   "id": "87f048bf-23bd-4165-b198-f7913e4ffa60",
   "metadata": {},
   "outputs": [],
   "source": [
    "x.head()"
   ]
  },
  {
   "cell_type": "code",
   "execution_count": 19,
   "id": "21a5dffe-c755-4a5a-9596-2d04f881f4aa",
   "metadata": {},
   "outputs": [],
   "source": [
    "y_predict = modelo.predict(x)"
   ]
  },
  {
   "cell_type": "code",
   "execution_count": 21,
   "id": "570964da-855d-44fe-874d-42f16c28da4f",
   "metadata": {},
   "outputs": [],
   "source": [
    "y_predict_per = modelo.predict_proba(x)"
   ]
  },
  {
   "cell_type": "code",
   "execution_count": 22,
   "id": "5b715a43-4e65-4b77-bc7e-e39abef7fe6d",
   "metadata": {},
   "outputs": [],
   "source": [
    "df_result = pd.DataFrame(columns=['enrollment','result','prob'])\n",
    "for aluno in range(len(matriculas)):\n",
    "    df_result.loc[aluno] = [matriculas[aluno],y_predict[aluno],y_predict_per[aluno][1]*100]"
   ]
  },
  {
   "cell_type": "code",
   "execution_count": null,
   "id": "76fa7cab-fcfb-42fd-83c8-1e714f647a2e",
   "metadata": {},
   "outputs": [],
   "source": [
    "df_result"
   ]
  },
  {
   "cell_type": "code",
   "execution_count": null,
   "id": "8736495c-001e-4a7b-a882-5b56406a00c8",
   "metadata": {},
   "outputs": [],
   "source": [
    "df_result.query('result == 1').shape"
   ]
  },
  {
   "cell_type": "code",
   "execution_count": 141,
   "id": "7c5aadf7-476b-45d5-a4fd-dbf775962ef0",
   "metadata": {},
   "outputs": [],
   "source": [
    "df_result.to_csv('predict_class_2024.1.csv')"
   ]
  },
  {
   "cell_type": "code",
   "execution_count": null,
   "id": "717cbb6f-9955-435c-b7c7-4eea232e4269",
   "metadata": {},
   "outputs": [],
   "source": []
  }
 ],
 "metadata": {
  "kernelspec": {
   "display_name": "Python 3 (ipykernel)",
   "language": "python",
   "name": "python3"
  },
  "language_info": {
   "codemirror_mode": {
    "name": "ipython",
    "version": 3
   },
   "file_extension": ".py",
   "mimetype": "text/x-python",
   "name": "python",
   "nbconvert_exporter": "python",
   "pygments_lexer": "ipython3",
   "version": "3.11.7"
  },
  "widgets": {
   "application/vnd.jupyter.widget-state+json": {
    "state": {},
    "version_major": 2,
    "version_minor": 0
   }
  }
 },
 "nbformat": 4,
 "nbformat_minor": 5
}
