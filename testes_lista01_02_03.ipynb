{
 "cells": [
  {
   "cell_type": "code",
   "execution_count": 1,
   "id": "3f2892e0",
   "metadata": {},
   "outputs": [],
   "source": [
    "import pandas as pd\n",
    "import matplotlib.pyplot as plt\n",
    "import numpy as np\n",
    "from sklearn.model_selection import train_test_split\n",
    "from sklearn.svm import SVC\n",
    "from sklearn.preprocessing import StandardScaler\n",
    "from sklearn.metrics import accuracy_score"
   ]
  },
  {
   "cell_type": "code",
   "execution_count": null,
   "id": "d27d47eb",
   "metadata": {},
   "outputs": [],
   "source": [
    "dados = pd.read_csv('tabela_lista01_02_03_lista13_14_15.csv',sep = ',')\n",
    "dados"
   ]
  },
  {
   "cell_type": "code",
   "execution_count": 3,
   "id": "42e5dd75",
   "metadata": {},
   "outputs": [],
   "source": [
    "pd.set_option('display.max_columns',43)"
   ]
  },
  {
   "cell_type": "code",
   "execution_count": null,
   "id": "af85b76d",
   "metadata": {},
   "outputs": [],
   "source": [
    "dados.head()"
   ]
  },
  {
   "cell_type": "code",
   "execution_count": 5,
   "id": "7e054ff9",
   "metadata": {},
   "outputs": [],
   "source": [
    "dados = dados.dropna(axis = 0,how = 'any')"
   ]
  },
  {
   "cell_type": "code",
   "execution_count": 6,
   "id": "cdfaa4fd",
   "metadata": {},
   "outputs": [],
   "source": [
    "x = dados[['HitsCorrects_list01','submissions_mean_list01','wrong_list01'\n",
    "          ,'Submissions_Corrects_list01','TimeAll_list01','TimeMean_list01','TimeSD_list01','Percentage_hit_list01'\n",
    "          ,'submitted_list01','HitsCorrects_list02','submissions_mean_list02','wrong_list02','partially_wrong_list02'\n",
    "          ,'Submissions_Corrects_list02','TimeAll_list02','TimeMean_list02','TimeSD_list02','Percentage_hit_list02','submitted_list02'\n",
    "           ,'HitsCorrects_list03','submissions_mean_list03','wrong_list03','partially_wrong_list03'\n",
    "          ,'Submissions_Corrects_list03','TimeAll_list03','TimeMean_list03','TimeSD_list03','Percentage_hit_list03','submitted_list03',]]\n",
    "y = dados.submitted_list15"
   ]
  },
  {
   "cell_type": "code",
   "execution_count": null,
   "id": "d77e551e",
   "metadata": {},
   "outputs": [],
   "source": [
    "SEED = 5\n",
    "np.random.seed(SEED)\n",
    "raw_treino_x,raw_teste_x,treino_y,teste_y = train_test_split(x,y,test_size = 0.25,random_state = SEED,stratify = y)\n",
    "print(f'Treinamos com {len(raw_treino_x)} e testaremos com {len(raw_teste_x)}')"
   ]
  },
  {
   "cell_type": "code",
   "execution_count": 8,
   "id": "897cfb0f",
   "metadata": {},
   "outputs": [],
   "source": [
    "scaler = StandardScaler()\n",
    "scaler.fit(raw_treino_x)\n",
    "treino_x = scaler.transform(raw_treino_x)\n",
    "teste_x = scaler.transform(raw_teste_x)"
   ]
  },
  {
   "cell_type": "code",
   "execution_count": 9,
   "id": "c0edac46",
   "metadata": {},
   "outputs": [],
   "source": [
    "modelo = SVC(gamma='auto')\n",
    "modelo.fit(treino_x,treino_y)\n",
    "previsoes = modelo.predict(teste_x)"
   ]
  },
  {
   "cell_type": "code",
   "execution_count": null,
   "id": "b3ea2d79",
   "metadata": {},
   "outputs": [],
   "source": [
    "acuracia = accuracy_score(teste_y,previsoes)*100\n",
    "print(f'A acurácia foi de {round(acuracia,2)}')"
   ]
  },
  {
   "cell_type": "code",
   "execution_count": 11,
   "id": "5ca402a7",
   "metadata": {},
   "outputs": [],
   "source": [
    "from sklearn.tree import DecisionTreeClassifier\n",
    "from sklearn.preprocessing import StandardScaler"
   ]
  },
  {
   "cell_type": "code",
   "execution_count": null,
   "id": "b0c04197",
   "metadata": {},
   "outputs": [],
   "source": [
    "SEED = 5\n",
    "np.random.seed(SEED)\n",
    "treino_x,teste_x,treino_y,teste_y = train_test_split(x,y,test_size = 0.25,random_state = SEED,stratify = y)\n",
    "print(f'Treinamos com {len(treino_x)} e testaremos com {len(teste_x)}')"
   ]
  },
  {
   "cell_type": "code",
   "execution_count": null,
   "id": "438f33fb",
   "metadata": {},
   "outputs": [],
   "source": [
    "modelo = DecisionTreeClassifier(max_depth = 3)\n",
    "modelo.fit(treino_x,treino_y)\n",
    "previsoes = modelo.predict(teste_x)\n",
    "# Não precisa reescalar\n",
    "acuracia = accuracy_score(teste_y,previsoes)*100\n",
    "print(f'A acurácia foi de {round(acuracia,2)}')"
   ]
  },
  {
   "cell_type": "code",
   "execution_count": 16,
   "id": "48a12821",
   "metadata": {},
   "outputs": [],
   "source": [
    "from sklearn.tree import export_graphviz\n",
    "import graphviz"
   ]
  },
  {
   "cell_type": "code",
   "execution_count": null,
   "id": "db7392a3",
   "metadata": {},
   "outputs": [],
   "source": [
    "dot_data = export_graphviz(modelo,out_file = None,\n",
    "                           filled = True,rounded = True,\n",
    "                           feature_names = x.columns,\n",
    "                           class_names = ['Não Submeteu','Submeteu'])\n",
    "#inverter \n",
    "grafico = graphviz.Source(dot_data)\n",
    "grafico"
   ]
  },
  {
   "cell_type": "code",
   "execution_count": 20,
   "id": "ba5d852d",
   "metadata": {},
   "outputs": [],
   "source": [
    "from sklearn.metrics import confusion_matrix"
   ]
  },
  {
   "cell_type": "code",
   "execution_count": null,
   "id": "91eab88d",
   "metadata": {},
   "outputs": [],
   "source": [
    "confusion_matrix = confusion_matrix(teste_y,previsoes)\n",
    "confusion_matrix"
   ]
  },
  {
   "cell_type": "code",
   "execution_count": 18,
   "id": "449b5026",
   "metadata": {},
   "outputs": [],
   "source": [
    "import matplotlib.pyplot as plt\n",
    "import numpy as np"
   ]
  },
  {
   "cell_type": "code",
   "execution_count": null,
   "id": "3aa7608d",
   "metadata": {},
   "outputs": [],
   "source": [
    "importances = modelo.feature_importances_\n",
    "indices = np.argsort(importances)\n",
    "indices"
   ]
  },
  {
   "cell_type": "code",
   "execution_count": 20,
   "id": "606d4668",
   "metadata": {},
   "outputs": [],
   "source": [
    "import seaborn as sns"
   ]
  },
  {
   "cell_type": "code",
   "execution_count": null,
   "id": "d65dc4e8",
   "metadata": {},
   "outputs": [],
   "source": [
    "fig,ax = plt.subplots(figsize = (20,20))\n",
    "sns.heatmap(x.corr(),annot = True,fmt = '.2f',ax = ax,cmap= 'coolwarm')\n",
    "plt.show"
   ]
  },
  {
   "cell_type": "code",
   "execution_count": null,
   "id": "8b3c27b7",
   "metadata": {},
   "outputs": [],
   "source": [
    "sns.pairplot(x,size = 1.5)\n",
    "plt.tight_layout()"
   ]
  },
  {
   "cell_type": "code",
   "execution_count": null,
   "id": "ecea4851",
   "metadata": {},
   "outputs": [],
   "source": []
  }
 ],
 "metadata": {
  "kernelspec": {
   "display_name": "Python 3 (ipykernel)",
   "language": "python",
   "name": "python3"
  },
  "language_info": {
   "codemirror_mode": {
    "name": "ipython",
    "version": 3
   },
   "file_extension": ".py",
   "mimetype": "text/x-python",
   "name": "python",
   "nbconvert_exporter": "python",
   "pygments_lexer": "ipython3",
   "version": "3.11.7"
  },
  "widgets": {
   "application/vnd.jupyter.widget-state+json": {
    "state": {},
    "version_major": 2,
    "version_minor": 0
   }
  }
 },
 "nbformat": 4,
 "nbformat_minor": 5
}
